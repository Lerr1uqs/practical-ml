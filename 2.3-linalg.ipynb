{
 "cells": [
  {
   "cell_type": "code",
   "execution_count": 2,
   "metadata": {},
   "outputs": [
    {
     "data": {
      "text/plain": [
       "(5.0, 6.0, 1.5, 9.0)"
      ]
     },
     "execution_count": 2,
     "metadata": {},
     "output_type": "execute_result"
    }
   ],
   "source": [
    "import numpy as np\n",
    "import pandas as pd\n",
    "'''\n",
    "MXNet (全称:Apache MXNet) 是一个开源的、灵活且高效的深度学习框架。它由分布式机器学习项目孵化而来, 现为Apache基金会的顶级项目之一。MXNet 主要用于构建、训练和部署深度神经网络。\n",
    "在 MXNet 框架中, npx 是 mxnet.numpy_extension 的缩写，主要用于扩展和补充 NumPy 接口的一些操作，同时提供了一些 MXNet 特有的运算操作\n",
    "'''\n",
    "\n",
    "x = np.array(3.0)\n",
    "y = np.array(2.0)\n",
    "\n",
    "x + y, x * y, x / y, x ** y"
   ]
  },
  {
   "cell_type": "code",
   "execution_count": 3,
   "metadata": {},
   "outputs": [
    {
     "data": {
      "text/plain": [
       "array([[ 0,  1,  2,  3],\n",
       "       [ 4,  5,  6,  7],\n",
       "       [ 8,  9, 10, 11],\n",
       "       [12, 13, 14, 15],\n",
       "       [16, 17, 18, 19]])"
      ]
     },
     "execution_count": 3,
     "metadata": {},
     "output_type": "execute_result"
    }
   ],
   "source": [
    "A = np.arange(20).reshape(5, 4)\n",
    "A"
   ]
  },
  {
   "cell_type": "code",
   "execution_count": 5,
   "metadata": {},
   "outputs": [
    {
     "data": {
      "text/plain": [
       "(array([40, 45, 50, 55]), array([ 6, 22, 38, 54, 70]), (4,), (5,))"
      ]
     },
     "execution_count": 5,
     "metadata": {},
     "output_type": "execute_result"
    }
   ],
   "source": [
    "# 这里是降维求和 得到的都是一个一维张量\n",
    "a = A.sum(axis=0)\n",
    "b = A.sum(axis=1)\n",
    "a, b, a.shape, b.shape\n"
   ]
  },
  {
   "cell_type": "code",
   "execution_count": 6,
   "metadata": {},
   "outputs": [
    {
     "data": {
      "text/plain": [
       "array([[ 6],\n",
       "       [22],\n",
       "       [38],\n",
       "       [54],\n",
       "       [70]])"
      ]
     },
     "execution_count": 6,
     "metadata": {},
     "output_type": "execute_result"
    }
   ],
   "source": [
    "A.sum(axis=1, keepdims=True) # 这里保持维度不变 得到的是一个二维张量"
   ]
  },
  {
   "cell_type": "code",
   "execution_count": 10,
   "metadata": {},
   "outputs": [
    {
     "data": {
      "text/plain": [
       "((1, 4), (4,), array([6.]))"
      ]
     },
     "execution_count": 10,
     "metadata": {},
     "output_type": "execute_result"
    }
   ],
   "source": [
    "#点积（Dot Product） 一般指两个向量对应元素相乘后再求和\n",
    "# (1, 4) @ (4, ) = (1, )\n",
    "x = np.arange(4).reshape(1, 4)\n",
    "y = np.ones(4)\n",
    "x.shape, y.shape, x @ y"
   ]
  },
  {
   "cell_type": "code",
   "execution_count": 11,
   "metadata": {},
   "outputs": [
    {
     "data": {
      "text/plain": [
       "(array([[0, 1, 2],\n",
       "        [3, 4, 5]]),\n",
       " array([[0, 1, 2],\n",
       "        [3, 4, 5]]),\n",
       " array([[ 0,  1,  4],\n",
       "        [ 9, 16, 25]]))"
      ]
     },
     "execution_count": 11,
     "metadata": {},
     "output_type": "execute_result"
    }
   ],
   "source": [
    "# 点乘（elementwise multiplication，Hadamard积/对应元素相乘）\n",
    "# 两个shape相同的矩阵对应元素相乘\n",
    "x = np.arange(6).reshape(2, 3)\n",
    "y = np.arange(6).reshape(2, 3)\n",
    "x, y, x * y"
   ]
  },
  {
   "cell_type": "code",
   "execution_count": 13,
   "metadata": {},
   "outputs": [
    {
     "data": {
      "text/plain": [
       "(12.0, 7.0710678118654755)"
      ]
     },
     "execution_count": 13,
     "metadata": {},
     "output_type": "execute_result"
    }
   ],
   "source": [
    "# L1范数（曼哈顿范数，Manhattan norm） L1范数是向量中所有元素绝对值之和。 \n",
    "# L2范数（欧几里得范数，Euclidean norm）\n",
    "x = np.array([3, -4, 5])\n",
    "l1 = np.linalg.norm(x, ord=1)  # L1范数 |x1| + |x2| + |x3|\n",
    "l2 = np.linalg.norm(x, ord=2)  # L2范数 sqrt(x1^2 + x2^2 + x3^2)\n",
    "l1, l2"
   ]
  },
  {
   "cell_type": "markdown",
   "metadata": {},
   "source": [
    "Lp范数\n",
    "$$ \\|x\\|_p = \\left( \\sum_{i=1}^n |x_i|^p \\right)^{1/p} $$\n",
    "\n",
    "\n",
    "\n",
    "\n",
    "\n"
   ]
  }
 ],
 "metadata": {
  "kernelspec": {
   "display_name": "Python (myenv)",
   "language": "python",
   "name": "myenv"
  },
  "language_info": {
   "codemirror_mode": {
    "name": "ipython",
    "version": 3
   },
   "file_extension": ".py",
   "mimetype": "text/x-python",
   "name": "python",
   "nbconvert_exporter": "python",
   "pygments_lexer": "ipython3",
   "version": "3.11.8"
  }
 },
 "nbformat": 4,
 "nbformat_minor": 2
}
